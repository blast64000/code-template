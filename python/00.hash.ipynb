{
 "cells": [
  {
   "cell_type": "markdown",
   "metadata": {},
   "source": [
    "수많은 마라톤 선수들이 마라톤에 참여하였습니다. 단 한 명의 선수를 제외하고는 모든 선수가 마라톤을 완주하였습니다.\n",
    "\n",
    "마라톤에 참여한 선수들의 이름이 담긴 배열 participant와 완주한 선수들의 이름이 담긴 배열 completion이 주어질 때, 완주하지 못한 선수의 이름을 return 하도록 solution 함수를 작성해주세요."
   ]
  },
  {
   "cell_type": "code",
   "execution_count": 2,
   "metadata": {},
   "outputs": [],
   "source": [
    "def solution(participant, completion):\n",
    "    \n",
    "#no refactoring   \n",
    "    #completion = [\"leo\",\"kiki\",\"eden\"]\n",
    "    \n",
    "    p = 31\n",
    "    m = 0xfffff\n",
    "    x = 0\n",
    "    hash_table = dict()\n",
    "    \n",
    "    # polynomial rolling hash function.\n",
    "    for i in participant:\n",
    "        mod_value=0\n",
    "        x = 0\n",
    "        for j in i:\n",
    "            mod_value = mod_value + ord(j)*pow(p,x)\n",
    "            x+=1\n",
    "        #print(\"par_hash(\"+i+\") : \"+ str((mod_value % m)))\n",
    "        if i in hash_table:\n",
    "            completion.remove(i)\n",
    "            #print(\"remove : \"+i)\n",
    "            \n",
    "            \n",
    "        hash_table[i] = (mod_value % m)\n",
    "    #hash for completion\n",
    "    for k in completion:\n",
    "        mod_value=0\n",
    "        x = 0\n",
    "        for l in k:\n",
    "            mod_value = mod_value + ord(l)*pow(p,x)\n",
    "            x+=1\n",
    "        #print(\"com_hash(\"+k+\") : \"+ str((mod_value % m)))\n",
    "        if k in hash_table:\n",
    "            #print(\"del :(\"+k+\")\")\n",
    "            del hash_table[k]\n",
    "    \n",
    "    for key in hash_table:\n",
    "        #print(key)\n",
    "        return key"
   ]
  },
  {
   "cell_type": "code",
   "execution_count": null,
   "metadata": {},
   "outputs": [],
   "source": []
  }
 ],
 "metadata": {
  "kernelspec": {
   "display_name": "Python 3",
   "language": "python",
   "name": "python3"
  },
  "language_info": {
   "codemirror_mode": {
    "name": "ipython",
    "version": 3
   },
   "file_extension": ".py",
   "mimetype": "text/x-python",
   "name": "python",
   "nbconvert_exporter": "python",
   "pygments_lexer": "ipython3",
   "version": "3.8.3"
  }
 },
 "nbformat": 4,
 "nbformat_minor": 4
}
