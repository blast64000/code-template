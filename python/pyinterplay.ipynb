{
 "cells": [
  {
   "cell_type": "code",
   "execution_count": 11,
   "metadata": {},
   "outputs": [
    {
     "data": {
      "text/plain": [
       "3"
      ]
     },
     "execution_count": 11,
     "metadata": {},
     "output_type": "execute_result"
    }
   ],
   "source": [
    "# internal function\n",
    "\n",
    "abs(-3)"
   ]
  },
  {
   "cell_type": "code",
   "execution_count": 12,
   "metadata": {},
   "outputs": [
    {
     "data": {
      "text/plain": [
       "True"
      ]
     },
     "execution_count": 12,
     "metadata": {},
     "output_type": "execute_result"
    }
   ],
   "source": [
    "all([True,False,True,True])\n",
    "all([True,True,True,True])"
   ]
  },
  {
   "cell_type": "code",
   "execution_count": 13,
   "metadata": {},
   "outputs": [
    {
     "data": {
      "text/plain": [
       "False"
      ]
     },
     "execution_count": 13,
     "metadata": {},
     "output_type": "execute_result"
    }
   ],
   "source": [
    "any([True,False,False])\n",
    "any([False,False,False])"
   ]
  },
  {
   "cell_type": "code",
   "execution_count": 21,
   "metadata": {},
   "outputs": [
    {
     "data": {
      "text/plain": [
       "\"'\\\\ud30c\\\\uc774\\\\uc36c\\\\uc740 \\\\uc7ac\\\\ubbf8\\\\uc788\\\\uc2b5\\\\ub2c8\\\\ub2e4'\""
      ]
     },
     "execution_count": 21,
     "metadata": {},
     "output_type": "execute_result"
    }
   ],
   "source": [
    "ascii('Python is interesting')\n",
    "ascii('Pythonは面白いです')\n",
    "ascii('파이썬은 재미있습니다')"
   ]
  },
  {
   "cell_type": "code",
   "execution_count": 29,
   "metadata": {},
   "outputs": [
    {
     "name": "stdout",
     "output_type": "stream",
     "text": [
      "0b1010\n",
      "0b1010\n"
     ]
    }
   ],
   "source": [
    "class Slice:\n",
    "    def __index__(self):\n",
    "        return 10\n",
    "slice = Slice()\n",
    "\n",
    "print(bin(10))\n",
    "print(bin(slice))\n"
   ]
  },
  {
   "cell_type": "code",
   "execution_count": 26,
   "metadata": {},
   "outputs": [],
   "source": [
    "#use double method example\n",
    "#https://corikachu.github.io/articles/python/python-magic-method\n",
    "\n",
    "class NumBox:\n",
    "    # cls  : @classmethod 데코레이터를 이용하여 선언\n",
    "    # self : \n",
    "    def __new__(cls,*args,**kargs):\n",
    "        if len(args)<1:\n",
    "            return None\n",
    "        else: \n",
    "            return super(NumBox, cls).__new__(cls) #Object 반환\n",
    "        \n",
    "    def __init__(self, num=None):\n",
    "        self.num = num # 받은 인자 num을 인스턴스 변수로 지정\n",
    "        \n",
    "    def __repr(self):\n",
    "        return str(self.num)"
   ]
  },
  {
   "cell_type": "code",
   "execution_count": null,
   "metadata": {},
   "outputs": [],
   "source": []
  }
 ],
 "metadata": {
  "kernelspec": {
   "display_name": "Python 3",
   "language": "python",
   "name": "python3"
  },
  "language_info": {
   "codemirror_mode": {
    "name": "ipython",
    "version": 3
   },
   "file_extension": ".py",
   "mimetype": "text/x-python",
   "name": "python",
   "nbconvert_exporter": "python",
   "pygments_lexer": "ipython3",
   "version": "3.8.3"
  }
 },
 "nbformat": 4,
 "nbformat_minor": 4
}
