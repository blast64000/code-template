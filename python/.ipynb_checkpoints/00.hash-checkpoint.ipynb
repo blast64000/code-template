{
 "cells": [
  {
   "cell_type": "markdown",
   "metadata": {},
   "source": [
    "수많은 마라톤 선수들이 마라톤에 참여하였습니다. 단 한 명의 선수를 제외하고는 모든 선수가 마라톤을 완주하였습니다.\n",
    "\n",
    "마라톤에 참여한 선수들의 이름이 담긴 배열 participant와 완주한 선수들의 이름이 담긴 배열 completion이 주어질 때, 완주하지 못한 선수의 이름을 return 하도록 solution 함수를 작성해주세요.\n",
    "\n",
    "* 마라톤 경기에 참여한 선수의 수는 1명 이상 100,000명 이하입니다.\n",
    "* completion의 길이는 participant의 길이보다 1 작습니다.\n",
    "* 참가자의 이름은 1개 이상 20개 이하의 알파벳 소문자로 이루어져 있습니다.\n",
    "* 참가자 중에는 동명이인이 있을 수 있습니다."
   ]
  },
  {
   "cell_type": "markdown",
   "metadata": {},
   "source": [
    "#00.첫번째 시도"
   ]
  },
  {
   "cell_type": "code",
   "execution_count": 2,
   "metadata": {},
   "outputs": [],
   "source": [
    "def solution(participant, completion):\n",
    "    \n",
    "#no refactoring   \n",
    "    #completion = [\"leo\",\"kiki\",\"eden\"]\n",
    "    \n",
    "    p = 31\n",
    "    m = 0xfffff\n",
    "    x = 0\n",
    "    hash_table = dict()\n",
    "    \n",
    "    # polynomial rolling hash function.\n",
    "    for i in participant:\n",
    "        mod_value=0\n",
    "        x = 0\n",
    "        for j in i:\n",
    "            mod_value = mod_value + ord(j)*pow(p,x)\n",
    "            x+=1\n",
    "        #print(\"par_hash(\"+i+\") : \"+ str((mod_value % m)))\n",
    "        if i in hash_table:\n",
    "            completion.remove(i)\n",
    "            #print(\"remove : \"+i)\n",
    "            \n",
    "            \n",
    "        hash_table[i] = (mod_value % m)\n",
    "    #hash for completion\n",
    "    for k in completion:\n",
    "        mod_value=0\n",
    "        x = 0\n",
    "        for l in k:\n",
    "            mod_value = mod_value + ord(l)*pow(p,x)\n",
    "            x+=1\n",
    "        #print(\"com_hash(\"+k+\") : \"+ str((mod_value % m)))\n",
    "        if k in hash_table:\n",
    "            #print(\"del :(\"+k+\")\")\n",
    "            del hash_table[k]\n",
    "    \n",
    "    for key in hash_table:\n",
    "        #print(key)\n",
    "        return key"
   ]
  },
  {
   "cell_type": "markdown",
   "metadata": {},
   "source": [
    "<b>평가</b>\n",
    "\n",
    "1. 10MB, 10s 효율성 실패<br>\n",
    "2. map 구조를 사용해서 공간, 시간적 낭비가 초래됨<br>\n",
    "3. refactoring 가능한 코드가 있지만 막 코딩함<br>"
   ]
  },
  {
   "cell_type": "markdown",
   "metadata": {},
   "source": [
    "002. 두번째 시도\n",
    "\n",
    "* 10만개 리스트 인덱스 생성\n",
    "* MOD 연산을 통해 해당 INDEX 값에 +1 \n",
    "* 값이 있을경우 +1 뺼 경우 -1 \n",
    "* +1인 인덱스값을 출력"
   ]
  },
  {
   "cell_type": "code",
   "execution_count": 13,
   "metadata": {},
   "outputs": [],
   "source": [
    "def solution(participant, completion):\n",
    "\n",
    "    #example\n",
    "    participant = [\"leo\",\"kiki\",\"eden\"]\n",
    "    completion = [\"leo\",\"kiki\"]\n",
    "\n",
    "    #constant\n",
    "    p = 31\n",
    "    m = 0xfffff\n",
    "    str_list = list([0 for i in range(m)])\n",
    "    \n",
    "    #update participant on str_list\n",
    "    for i in participant:\n",
    "        mod_value=0; x=0\n",
    "        for j in i:\n",
    "            mod_value = mod_value + ord(j)*pow(p,x)\n",
    "            x+=1\n",
    "        if str_list[(mod_value % m)]!= 0:\n",
    "            completion.remove(i)\n",
    "            print(\"\")\n",
    "        else:\n",
    "            str_list[(mod_value % m)]=i\n",
    "            print(\"add :\",i+\"(\"+str(mod_value % m)+\")\")\n",
    "        \n",
    "    #update completion on str_list        \n",
    "    for k in completion:\n",
    "        mod_value=0; x=0\n",
    "        for z in k:\n",
    "            mod_value = mod_value + ord(z)*pow(p,x)\n",
    "            x+=1\n",
    "        str_list[(mod_value % m)]=0\n",
    "        print(\"remove :\",k+\"(\"+str(mod_value % m)+\")\")\n",
    "        \n",
    "    for y in str_list:\n",
    "        if y!=0:\n",
    "            print(y)\n",
    "    "
   ]
  },
  {
   "cell_type": "code",
   "execution_count": 14,
   "metadata": {},
   "outputs": [
    {
     "name": "stdout",
     "output_type": "stream",
     "text": [
      "add : leo(109910)\n",
      "add : kiki(88519)\n",
      "add : eden(231547)\n",
      "remove : leo(109910)\n",
      "remove : kiki(88519)\n",
      "eden\n"
     ]
    }
   ],
   "source": [
    "solution([],[])"
   ]
  },
  {
   "cell_type": "code",
   "execution_count": null,
   "metadata": {},
   "outputs": [],
   "source": []
  }
 ],
 "metadata": {
  "kernelspec": {
   "display_name": "Python 3",
   "language": "python",
   "name": "python3"
  },
  "language_info": {
   "codemirror_mode": {
    "name": "ipython",
    "version": 3
   },
   "file_extension": ".py",
   "mimetype": "text/x-python",
   "name": "python",
   "nbconvert_exporter": "python",
   "pygments_lexer": "ipython3",
   "version": "3.8.3"
  }
 },
 "nbformat": 4,
 "nbformat_minor": 4
}
